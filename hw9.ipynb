{
 "cells": [
  {
   "cell_type": "code",
   "execution_count": 259,
   "id": "0044652d",
   "metadata": {
    "deletable": false,
    "editable": false
   },
   "outputs": [],
   "source": [
    "# Initialize Otter\n",
    "import otter\n",
    "grader = otter.Notebook(\"hw9.ipynb\")"
   ]
  },
  {
   "cell_type": "markdown",
   "id": "6d00680e",
   "metadata": {},
   "source": [
    "# Homework 9: Predictive Modelling and Model Comparision"
   ]
  },
  {
   "cell_type": "markdown",
   "id": "01c35cf4",
   "metadata": {},
   "source": [
    "Name: Colin Jette and Ritika Tejwani\n",
    "\n",
    "Student ID: 498446 and 498283\n",
    "\n",
    "Collaborators: NA\n"
   ]
  },
  {
   "cell_type": "markdown",
   "id": "b6fad084",
   "metadata": {},
   "source": [
    "## Instructions\n",
    "\n",
    "This is the final homework/Project, which is about Understanding Data Profiling, Feature Engineering, Feature Selection, Model Comparision & Selection as a _final project_ for our 217a class.\n",
    "\n",
    "We will be using the techniques and approaches introduced throughout the course focusing mainly towards the second half of the semester:\n",
    "\n",
    "* [M0] Python for DS\n",
    "* [M1] The DS and ML Workflows\n",
    "* [M2] Exploratory Data Analsyis\n",
    "* **[M3] Linear Regression (if applicable - depends on problem/dataset)**\n",
    "* **[M4] Linear Classification (if applicable - depends on problem/dataset)**\n",
    "* [M5] Sentiment Analysis (if applicable - depends on problem/dataset)\n",
    "* [M6] Learning Principles and Ethical Thinking for DS\n",
    "* **[M7] Clustering K-Means (if applicable - depends on problem/dataset)** \n",
    "* **[M8] Similarity-based Learning K-NN (if applicable - depends on problem/dataset)**\n",
    "* **[M9] More Models (Decision Tree, Random Forest, Neural Network) for Feature Engineering & Model Comparision & Selection**\n",
    "* **[M10] Creating & Managing Model pipeline for ML workflow**\n",
    "\n",
    "The main focus of this project is majorly on the last modules [M3]-[M10]. In particular, it will be helpful to review **Lab 3 & hw 3 onwards for more clarification**.\n",
    "Most of the things you will do in this final project are explained in `Lab9` and `Lab 10`. Then, review the other labs and hws to recap the general workflow of our DS approaches to the various problems we have worked on so far. This will help you to be prepared for all the steps in this project, so that you do not miss anything. \n",
    "\n",
    "In gernal, you should feel free to import any package that we have previously used in class. Ensure that all plots have the necessary components that a plot should have (e.g. axes labels, a title, a legend).\n",
    "\n",
    "Additionally, note that this assignment is more like a project than a typical homework and it will have a slightly different structure than the hws in the past. One of the reasons why Jupyter Notebooks are so popular in the field is because you can really treat them like notebooks to explain your findings as you discover them. In this assignment, we provide some **Problem** stubs following the DS workflow and you will need to fill in the analysis and structure as you go.\n",
    "\n",
    "Furthermore, in addition to recording your collaborators on this homework, please also remember to cite/indicate all external sources used when finishing this assignment. This includes peers, TAs, and links to online sources. \n",
    "\n",
    "Frequently **save** your notebook!"
   ]
  },
  {
   "cell_type": "markdown",
   "id": "03fa7925",
   "metadata": {},
   "source": [
    "### Collaborators and Sources\n",
    "Furthermore, in addition to recording your **collaborators** on this homework, please also remember to **cite/indicate all external sources** used when finishing this assignment. \n",
    "> This includes peers, TAs, and links to online sources. \n",
    "\n",
    "Note that these citations will not free you from your obligation to submit your _own_ code and write-ups, however, they will be taken into account during the grading and regrading process."
   ]
  },
  {
   "cell_type": "code",
   "execution_count": 260,
   "id": "2b483dd5",
   "metadata": {},
   "outputs": [],
   "source": [
    "# collaborators and sources:\n",
    "# Albert Einstein and Marie Curie\n",
    "# https://developers.google.com/edu/python/strings\n",
    "\n",
    "# your code here\n",
    "answer = 'my answer'"
   ]
  },
  {
   "cell_type": "markdown",
   "id": "37be1bf3",
   "metadata": {},
   "source": [
    "### Submission instructions\n",
    "* Submit this Python notebook, including your answers in the code cells as homework submission.\n",
    "* **Feel free to add as many cells as you need to** — just make sure you don't change what we gave you. \n",
    "* **Does it spark joy?** Note that you will be partially graded on the presentation (_cleanliness, clarity, comments_) of your notebook so make sure you [Marie Kondo](https://lifehacker.com/marie-kondo-is-not-a-verb-1833373654) your notebook before submitting it."
   ]
  },
  {
   "cell_type": "markdown",
   "id": "59a1d6a5",
   "metadata": {},
   "source": [
    "<!-- BEGIN QUESTION -->\n",
    "\n",
    "## 1. Introduction\n",
    "\n",
    "For our final project this semester, we'll take a look at data for California Housing Price Prediction\n",
    "https://www.kaggle.com/subashdump/california-housing-price-prediction/data \n",
    "\n",
    "\n",
    "As you have seen throughout the semseter we have learned various techniques to solve a problem task (Classification, Regression, Clustering etc.) starting from problem formulation to EDA to model building to model evaluation and performing feaure engineering and selection in order to improve the model's performance.\n",
    "You will be combining all the knowledge learned so far in this final project. You will be making assuptions and decisions on your own with appropriate justifications in writeups about how to improve the prediction model using all the tools and techniques learned so far and provide the best model at the end.\n",
    "\n",
    "\n",
    "The project aims at building a model of housing prices to predict median house values in California using the provided dataset. This model should learn from the data and be able to predict the median housing price in any district, given all the other metrics.\n",
    "\n",
    "Our goal will be to use this dataset to gain some insight about characteristics of different features.\n",
    "We will be using data profiling from pandas and create models (hopefully more than 3) and complare them to find out which model performed the best and probably explain why it is the best model among all in this data.\n"
   ]
  },
  {
   "cell_type": "code",
   "execution_count": 261,
   "id": "f8a5feba",
   "metadata": {},
   "outputs": [],
   "source": [
    "#Imports \n",
    "import numpy as np\n",
    "import pandas as pd\n",
    "import matplotlib.pyplot as plt\n",
    "import seaborn as sns"
   ]
  },
  {
   "cell_type": "markdown",
   "id": "edc4354f",
   "metadata": {},
   "source": [
    "### Problem 1.1\n",
    "\n",
    "Download the data and load it in this notebook for further processing and analysis.\n",
    "\n",
    "**Write-up!** Describe the data, answering questions including, but not limited to, these: Where does the data come from? How was it obtained? How many examples and features does the dataset have? What kinds of features are in the dataset? What values can these features take? what kind of relationship you would explore in this dataset and on what features? \n",
    "> **Hint**: Consider the steps of EDA; what would you like to know about this dataset. "
   ]
  },
  {
   "cell_type": "code",
   "execution_count": 262,
   "id": "074cfa3e",
   "metadata": {},
   "outputs": [],
   "source": [
    "# BEGIN SOLUTION\n",
    "data = pd.read_csv(\"utility/data/housing.csv\")\n",
    "# END SOLUTION"
   ]
  },
  {
   "cell_type": "code",
   "execution_count": 263,
   "id": "fb2a2718",
   "metadata": {},
   "outputs": [
    {
     "data": {
      "text/plain": [
       "(20640, 10)"
      ]
     },
     "execution_count": 263,
     "metadata": {},
     "output_type": "execute_result"
    }
   ],
   "source": [
    "data.shape"
   ]
  },
  {
   "cell_type": "code",
   "execution_count": 264,
   "id": "e7c1a38f",
   "metadata": {},
   "outputs": [
    {
     "data": {
      "text/plain": [
       "Index(['longitude', 'latitude', 'housing_median_age', 'total_rooms',\n",
       "       'total_bedrooms', 'population', 'households', 'median_income',\n",
       "       'median_house_value', 'ocean_proximity'],\n",
       "      dtype='object')"
      ]
     },
     "execution_count": 264,
     "metadata": {},
     "output_type": "execute_result"
    }
   ],
   "source": [
    "data.columns"
   ]
  },
  {
   "cell_type": "code",
   "execution_count": 265,
   "id": "97598993",
   "metadata": {},
   "outputs": [
    {
     "data": {
      "text/html": [
       "<div>\n",
       "<style scoped>\n",
       "    .dataframe tbody tr th:only-of-type {\n",
       "        vertical-align: middle;\n",
       "    }\n",
       "\n",
       "    .dataframe tbody tr th {\n",
       "        vertical-align: top;\n",
       "    }\n",
       "\n",
       "    .dataframe thead th {\n",
       "        text-align: right;\n",
       "    }\n",
       "</style>\n",
       "<table border=\"1\" class=\"dataframe\">\n",
       "  <thead>\n",
       "    <tr style=\"text-align: right;\">\n",
       "      <th></th>\n",
       "      <th>longitude</th>\n",
       "      <th>latitude</th>\n",
       "      <th>housing_median_age</th>\n",
       "      <th>total_rooms</th>\n",
       "      <th>total_bedrooms</th>\n",
       "      <th>population</th>\n",
       "      <th>households</th>\n",
       "      <th>median_income</th>\n",
       "      <th>median_house_value</th>\n",
       "      <th>ocean_proximity</th>\n",
       "    </tr>\n",
       "  </thead>\n",
       "  <tbody>\n",
       "    <tr>\n",
       "      <th>0</th>\n",
       "      <td>-122.23</td>\n",
       "      <td>37.88</td>\n",
       "      <td>41.0</td>\n",
       "      <td>880.0</td>\n",
       "      <td>129.0</td>\n",
       "      <td>322.0</td>\n",
       "      <td>126.0</td>\n",
       "      <td>8.3252</td>\n",
       "      <td>452600.0</td>\n",
       "      <td>NEAR BAY</td>\n",
       "    </tr>\n",
       "    <tr>\n",
       "      <th>1</th>\n",
       "      <td>-122.22</td>\n",
       "      <td>37.86</td>\n",
       "      <td>21.0</td>\n",
       "      <td>7099.0</td>\n",
       "      <td>1106.0</td>\n",
       "      <td>2401.0</td>\n",
       "      <td>1138.0</td>\n",
       "      <td>8.3014</td>\n",
       "      <td>358500.0</td>\n",
       "      <td>NEAR BAY</td>\n",
       "    </tr>\n",
       "    <tr>\n",
       "      <th>2</th>\n",
       "      <td>-122.24</td>\n",
       "      <td>37.85</td>\n",
       "      <td>52.0</td>\n",
       "      <td>1467.0</td>\n",
       "      <td>190.0</td>\n",
       "      <td>496.0</td>\n",
       "      <td>177.0</td>\n",
       "      <td>7.2574</td>\n",
       "      <td>352100.0</td>\n",
       "      <td>NEAR BAY</td>\n",
       "    </tr>\n",
       "    <tr>\n",
       "      <th>3</th>\n",
       "      <td>-122.25</td>\n",
       "      <td>37.85</td>\n",
       "      <td>52.0</td>\n",
       "      <td>1274.0</td>\n",
       "      <td>235.0</td>\n",
       "      <td>558.0</td>\n",
       "      <td>219.0</td>\n",
       "      <td>5.6431</td>\n",
       "      <td>341300.0</td>\n",
       "      <td>NEAR BAY</td>\n",
       "    </tr>\n",
       "    <tr>\n",
       "      <th>4</th>\n",
       "      <td>-122.25</td>\n",
       "      <td>37.85</td>\n",
       "      <td>52.0</td>\n",
       "      <td>1627.0</td>\n",
       "      <td>280.0</td>\n",
       "      <td>565.0</td>\n",
       "      <td>259.0</td>\n",
       "      <td>3.8462</td>\n",
       "      <td>342200.0</td>\n",
       "      <td>NEAR BAY</td>\n",
       "    </tr>\n",
       "  </tbody>\n",
       "</table>\n",
       "</div>"
      ],
      "text/plain": [
       "   longitude  latitude  housing_median_age  total_rooms  total_bedrooms  \\\n",
       "0    -122.23     37.88                41.0        880.0           129.0   \n",
       "1    -122.22     37.86                21.0       7099.0          1106.0   \n",
       "2    -122.24     37.85                52.0       1467.0           190.0   \n",
       "3    -122.25     37.85                52.0       1274.0           235.0   \n",
       "4    -122.25     37.85                52.0       1627.0           280.0   \n",
       "\n",
       "   population  households  median_income  median_house_value ocean_proximity  \n",
       "0       322.0       126.0         8.3252            452600.0        NEAR BAY  \n",
       "1      2401.0      1138.0         8.3014            358500.0        NEAR BAY  \n",
       "2       496.0       177.0         7.2574            352100.0        NEAR BAY  \n",
       "3       558.0       219.0         5.6431            341300.0        NEAR BAY  \n",
       "4       565.0       259.0         3.8462            342200.0        NEAR BAY  "
      ]
     },
     "execution_count": 265,
     "metadata": {},
     "output_type": "execute_result"
    }
   ],
   "source": [
    "data.head()"
   ]
  },
  {
   "cell_type": "code",
   "execution_count": 266,
   "id": "2f8203b1",
   "metadata": {},
   "outputs": [
    {
     "name": "stdout",
     "output_type": "stream",
     "text": [
      "<class 'pandas.core.frame.DataFrame'>\n",
      "RangeIndex: 20640 entries, 0 to 20639\n",
      "Data columns (total 10 columns):\n",
      " #   Column              Non-Null Count  Dtype  \n",
      "---  ------              --------------  -----  \n",
      " 0   longitude           20640 non-null  float64\n",
      " 1   latitude            20640 non-null  float64\n",
      " 2   housing_median_age  20640 non-null  float64\n",
      " 3   total_rooms         20640 non-null  float64\n",
      " 4   total_bedrooms      20433 non-null  float64\n",
      " 5   population          20640 non-null  float64\n",
      " 6   households          20640 non-null  float64\n",
      " 7   median_income       20640 non-null  float64\n",
      " 8   median_house_value  20640 non-null  float64\n",
      " 9   ocean_proximity     20640 non-null  object \n",
      "dtypes: float64(9), object(1)\n",
      "memory usage: 1.6+ MB\n"
     ]
    }
   ],
   "source": [
    "data.info()"
   ]
  },
  {
   "cell_type": "code",
   "execution_count": 267,
   "id": "a4108fb6",
   "metadata": {},
   "outputs": [
    {
     "data": {
      "text/html": [
       "<div>\n",
       "<style scoped>\n",
       "    .dataframe tbody tr th:only-of-type {\n",
       "        vertical-align: middle;\n",
       "    }\n",
       "\n",
       "    .dataframe tbody tr th {\n",
       "        vertical-align: top;\n",
       "    }\n",
       "\n",
       "    .dataframe thead th {\n",
       "        text-align: right;\n",
       "    }\n",
       "</style>\n",
       "<table border=\"1\" class=\"dataframe\">\n",
       "  <thead>\n",
       "    <tr style=\"text-align: right;\">\n",
       "      <th></th>\n",
       "      <th>longitude</th>\n",
       "      <th>latitude</th>\n",
       "      <th>housing_median_age</th>\n",
       "      <th>total_rooms</th>\n",
       "      <th>total_bedrooms</th>\n",
       "      <th>population</th>\n",
       "      <th>households</th>\n",
       "      <th>median_income</th>\n",
       "      <th>median_house_value</th>\n",
       "    </tr>\n",
       "  </thead>\n",
       "  <tbody>\n",
       "    <tr>\n",
       "      <th>count</th>\n",
       "      <td>20640.000000</td>\n",
       "      <td>20640.000000</td>\n",
       "      <td>20640.000000</td>\n",
       "      <td>20640.000000</td>\n",
       "      <td>20433.000000</td>\n",
       "      <td>20640.000000</td>\n",
       "      <td>20640.000000</td>\n",
       "      <td>20640.000000</td>\n",
       "      <td>20640.000000</td>\n",
       "    </tr>\n",
       "    <tr>\n",
       "      <th>mean</th>\n",
       "      <td>-119.569704</td>\n",
       "      <td>35.631861</td>\n",
       "      <td>28.639486</td>\n",
       "      <td>2635.763081</td>\n",
       "      <td>537.870553</td>\n",
       "      <td>1425.476744</td>\n",
       "      <td>499.539680</td>\n",
       "      <td>3.870671</td>\n",
       "      <td>206855.816909</td>\n",
       "    </tr>\n",
       "    <tr>\n",
       "      <th>std</th>\n",
       "      <td>2.003532</td>\n",
       "      <td>2.135952</td>\n",
       "      <td>12.585558</td>\n",
       "      <td>2181.615252</td>\n",
       "      <td>421.385070</td>\n",
       "      <td>1132.462122</td>\n",
       "      <td>382.329753</td>\n",
       "      <td>1.899822</td>\n",
       "      <td>115395.615874</td>\n",
       "    </tr>\n",
       "    <tr>\n",
       "      <th>min</th>\n",
       "      <td>-124.350000</td>\n",
       "      <td>32.540000</td>\n",
       "      <td>1.000000</td>\n",
       "      <td>2.000000</td>\n",
       "      <td>1.000000</td>\n",
       "      <td>3.000000</td>\n",
       "      <td>1.000000</td>\n",
       "      <td>0.499900</td>\n",
       "      <td>14999.000000</td>\n",
       "    </tr>\n",
       "    <tr>\n",
       "      <th>25%</th>\n",
       "      <td>-121.800000</td>\n",
       "      <td>33.930000</td>\n",
       "      <td>18.000000</td>\n",
       "      <td>1447.750000</td>\n",
       "      <td>296.000000</td>\n",
       "      <td>787.000000</td>\n",
       "      <td>280.000000</td>\n",
       "      <td>2.563400</td>\n",
       "      <td>119600.000000</td>\n",
       "    </tr>\n",
       "    <tr>\n",
       "      <th>50%</th>\n",
       "      <td>-118.490000</td>\n",
       "      <td>34.260000</td>\n",
       "      <td>29.000000</td>\n",
       "      <td>2127.000000</td>\n",
       "      <td>435.000000</td>\n",
       "      <td>1166.000000</td>\n",
       "      <td>409.000000</td>\n",
       "      <td>3.534800</td>\n",
       "      <td>179700.000000</td>\n",
       "    </tr>\n",
       "    <tr>\n",
       "      <th>75%</th>\n",
       "      <td>-118.010000</td>\n",
       "      <td>37.710000</td>\n",
       "      <td>37.000000</td>\n",
       "      <td>3148.000000</td>\n",
       "      <td>647.000000</td>\n",
       "      <td>1725.000000</td>\n",
       "      <td>605.000000</td>\n",
       "      <td>4.743250</td>\n",
       "      <td>264725.000000</td>\n",
       "    </tr>\n",
       "    <tr>\n",
       "      <th>max</th>\n",
       "      <td>-114.310000</td>\n",
       "      <td>41.950000</td>\n",
       "      <td>52.000000</td>\n",
       "      <td>39320.000000</td>\n",
       "      <td>6445.000000</td>\n",
       "      <td>35682.000000</td>\n",
       "      <td>6082.000000</td>\n",
       "      <td>15.000100</td>\n",
       "      <td>500001.000000</td>\n",
       "    </tr>\n",
       "  </tbody>\n",
       "</table>\n",
       "</div>"
      ],
      "text/plain": [
       "          longitude      latitude  housing_median_age   total_rooms  \\\n",
       "count  20640.000000  20640.000000        20640.000000  20640.000000   \n",
       "mean    -119.569704     35.631861           28.639486   2635.763081   \n",
       "std        2.003532      2.135952           12.585558   2181.615252   \n",
       "min     -124.350000     32.540000            1.000000      2.000000   \n",
       "25%     -121.800000     33.930000           18.000000   1447.750000   \n",
       "50%     -118.490000     34.260000           29.000000   2127.000000   \n",
       "75%     -118.010000     37.710000           37.000000   3148.000000   \n",
       "max     -114.310000     41.950000           52.000000  39320.000000   \n",
       "\n",
       "       total_bedrooms    population    households  median_income  \\\n",
       "count    20433.000000  20640.000000  20640.000000   20640.000000   \n",
       "mean       537.870553   1425.476744    499.539680       3.870671   \n",
       "std        421.385070   1132.462122    382.329753       1.899822   \n",
       "min          1.000000      3.000000      1.000000       0.499900   \n",
       "25%        296.000000    787.000000    280.000000       2.563400   \n",
       "50%        435.000000   1166.000000    409.000000       3.534800   \n",
       "75%        647.000000   1725.000000    605.000000       4.743250   \n",
       "max       6445.000000  35682.000000   6082.000000      15.000100   \n",
       "\n",
       "       median_house_value  \n",
       "count        20640.000000  \n",
       "mean        206855.816909  \n",
       "std         115395.615874  \n",
       "min          14999.000000  \n",
       "25%         119600.000000  \n",
       "50%         179700.000000  \n",
       "75%         264725.000000  \n",
       "max         500001.000000  "
      ]
     },
     "execution_count": 267,
     "metadata": {},
     "output_type": "execute_result"
    }
   ],
   "source": [
    "data.describe()"
   ]
  },
  {
   "cell_type": "markdown",
   "id": "95d0dd39",
   "metadata": {},
   "source": [
    "**Problem 1.1:** <br>\n",
    "The data comes from the Kaggle which is a data science company that contains data sets on a variety of topics. This specific data is about houses in a given California district, and gives the summary stats about them based on the 1990 census data. This data set has 20640 data points and 10 features per data point. The features in the data set are longitude, latitude, housing median age, total rooms, total bedrooms, population, households, median income, median house value, and ocean proximity. All the features beside ocean_proximity are continuous numerical variables. Ocean_proximity is a categorical variable because it's represented by a string. Since this data set is about predicting house prices, I would want to explore what features have the most correlation with the median house value, and what features have the most accuracy in predicting house prices."
   ]
  },
  {
   "cell_type": "markdown",
   "id": "37db225c",
   "metadata": {},
   "source": [
    "### Problem 1.2\n",
    "### Getting Familiar with the Data\n",
    "\n",
    "Install the pandas data profile dependencies and import them to generate the data report using __df.profile_report__. \n",
    "\n",
    "\n",
    "**Write-up!** What is the Domain/Area of this dataset and what kind of prediction (regression, classification or clustering) we are doing with this dataset and why? Describe the additional insights (if any) you get from generating the pandas data profile report, which you did not observe in the previous EDA steps. Does it change your thinking process or provide any ideas about data pre-processing or processing steps? "
   ]
  },
  {
   "cell_type": "code",
   "execution_count": 268,
   "id": "1e3a10c8",
   "metadata": {},
   "outputs": [
    {
     "name": "stdout",
     "output_type": "stream",
     "text": [
      "Requirement already satisfied: pandas-profiling==3.5.0 in /opt/anaconda3/envs/cse217a/lib/python3.7/site-packages (3.5.0)\n",
      "Requirement already satisfied: statsmodels<0.14,>=0.13.2 in /opt/anaconda3/envs/cse217a/lib/python3.7/site-packages (from pandas-profiling==3.5.0) (0.13.5)\n",
      "Requirement already satisfied: visions[type_image_path]==0.7.5 in /opt/anaconda3/envs/cse217a/lib/python3.7/site-packages (from pandas-profiling==3.5.0) (0.7.5)\n",
      "Requirement already satisfied: multimethod<1.10,>=1.4 in /opt/anaconda3/envs/cse217a/lib/python3.7/site-packages (from pandas-profiling==3.5.0) (1.9)\n",
      "Requirement already satisfied: typeguard<2.14,>=2.13.2 in /opt/anaconda3/envs/cse217a/lib/python3.7/site-packages (from pandas-profiling==3.5.0) (2.13.3)\n",
      "Requirement already satisfied: numpy<1.24,>=1.16.0 in /opt/anaconda3/envs/cse217a/lib/python3.7/site-packages (from pandas-profiling==3.5.0) (1.19.2)\n",
      "Requirement already satisfied: PyYAML<6.1,>=5.0.0 in /opt/anaconda3/envs/cse217a/lib/python3.7/site-packages (from pandas-profiling==3.5.0) (6.0)\n",
      "Requirement already satisfied: matplotlib<3.7,>=3.2 in /opt/anaconda3/envs/cse217a/lib/python3.7/site-packages (from pandas-profiling==3.5.0) (3.3.2)\n",
      "Requirement already satisfied: requests<2.29,>=2.24.0 in /opt/anaconda3/envs/cse217a/lib/python3.7/site-packages (from pandas-profiling==3.5.0) (2.28.1)\n",
      "Requirement already satisfied: tqdm<4.65,>=4.48.2 in /opt/anaconda3/envs/cse217a/lib/python3.7/site-packages (from pandas-profiling==3.5.0) (4.64.0)\n",
      "Requirement already satisfied: seaborn<0.13,>=0.10.1 in /opt/anaconda3/envs/cse217a/lib/python3.7/site-packages (from pandas-profiling==3.5.0) (0.11.1)\n",
      "Requirement already satisfied: phik<0.13,>=0.11.1 in /opt/anaconda3/envs/cse217a/lib/python3.7/site-packages (from pandas-profiling==3.5.0) (0.12.2)\n",
      "Requirement already satisfied: pydantic<1.11,>=1.8.1 in /opt/anaconda3/envs/cse217a/lib/python3.7/site-packages (from pandas-profiling==3.5.0) (1.10.0)\n",
      "Requirement already satisfied: pandas!=1.4.0,<1.6,>1.1 in /opt/anaconda3/envs/cse217a/lib/python3.7/site-packages (from pandas-profiling==3.5.0) (1.2.0)\n",
      "Requirement already satisfied: jinja2<3.2,>=2.11.1 in /opt/anaconda3/envs/cse217a/lib/python3.7/site-packages (from pandas-profiling==3.5.0) (3.0.3)\n",
      "Requirement already satisfied: scipy<1.10,>=1.4.1 in /opt/anaconda3/envs/cse217a/lib/python3.7/site-packages (from pandas-profiling==3.5.0) (1.5.2)\n",
      "Requirement already satisfied: htmlmin==0.1.12 in /opt/anaconda3/envs/cse217a/lib/python3.7/site-packages (from pandas-profiling==3.5.0) (0.1.12)\n",
      "Requirement already satisfied: networkx>=2.4 in /opt/anaconda3/envs/cse217a/lib/python3.7/site-packages (from visions[type_image_path]==0.7.5->pandas-profiling==3.5.0) (2.6.3)\n",
      "Requirement already satisfied: attrs>=19.3.0 in /opt/anaconda3/envs/cse217a/lib/python3.7/site-packages (from visions[type_image_path]==0.7.5->pandas-profiling==3.5.0) (21.4.0)\n",
      "Requirement already satisfied: tangled-up-in-unicode>=0.0.4 in /opt/anaconda3/envs/cse217a/lib/python3.7/site-packages (from visions[type_image_path]==0.7.5->pandas-profiling==3.5.0) (0.2.0)\n",
      "Requirement already satisfied: imagehash in /opt/anaconda3/envs/cse217a/lib/python3.7/site-packages (from visions[type_image_path]==0.7.5->pandas-profiling==3.5.0) (4.3.1)\n",
      "Requirement already satisfied: Pillow in /opt/anaconda3/envs/cse217a/lib/python3.7/site-packages (from visions[type_image_path]==0.7.5->pandas-profiling==3.5.0) (9.2.0)\n",
      "Requirement already satisfied: MarkupSafe>=2.0 in /opt/anaconda3/envs/cse217a/lib/python3.7/site-packages (from jinja2<3.2,>=2.11.1->pandas-profiling==3.5.0) (2.1.1)\n",
      "Requirement already satisfied: kiwisolver>=1.0.1 in /opt/anaconda3/envs/cse217a/lib/python3.7/site-packages (from matplotlib<3.7,>=3.2->pandas-profiling==3.5.0) (1.4.2)\n",
      "Requirement already satisfied: python-dateutil>=2.1 in /opt/anaconda3/envs/cse217a/lib/python3.7/site-packages (from matplotlib<3.7,>=3.2->pandas-profiling==3.5.0) (2.8.2)\n",
      "Requirement already satisfied: certifi>=2020.06.20 in /opt/anaconda3/envs/cse217a/lib/python3.7/site-packages (from matplotlib<3.7,>=3.2->pandas-profiling==3.5.0) (2022.6.15)\n",
      "Requirement already satisfied: pyparsing!=2.0.4,!=2.1.2,!=2.1.6,>=2.0.3 in /opt/anaconda3/envs/cse217a/lib/python3.7/site-packages (from matplotlib<3.7,>=3.2->pandas-profiling==3.5.0) (3.0.9)\n",
      "Requirement already satisfied: cycler>=0.10 in /opt/anaconda3/envs/cse217a/lib/python3.7/site-packages (from matplotlib<3.7,>=3.2->pandas-profiling==3.5.0) (0.11.0)\n",
      "Requirement already satisfied: pytz>=2017.3 in /opt/anaconda3/envs/cse217a/lib/python3.7/site-packages (from pandas!=1.4.0,<1.6,>1.1->pandas-profiling==3.5.0) (2022.1)\n",
      "Requirement already satisfied: joblib>=0.14.1 in /opt/anaconda3/envs/cse217a/lib/python3.7/site-packages (from phik<0.13,>=0.11.1->pandas-profiling==3.5.0) (1.1.0)\n",
      "Requirement already satisfied: typing-extensions>=4.1.0 in /opt/anaconda3/envs/cse217a/lib/python3.7/site-packages (from pydantic<1.11,>=1.8.1->pandas-profiling==3.5.0) (4.3.0)\n",
      "Requirement already satisfied: charset-normalizer<3,>=2 in /opt/anaconda3/envs/cse217a/lib/python3.7/site-packages (from requests<2.29,>=2.24.0->pandas-profiling==3.5.0) (2.0.4)\n",
      "Requirement already satisfied: urllib3<1.27,>=1.21.1 in /opt/anaconda3/envs/cse217a/lib/python3.7/site-packages (from requests<2.29,>=2.24.0->pandas-profiling==3.5.0) (1.26.11)\n",
      "Requirement already satisfied: idna<4,>=2.5 in /opt/anaconda3/envs/cse217a/lib/python3.7/site-packages (from requests<2.29,>=2.24.0->pandas-profiling==3.5.0) (3.3)\n",
      "Requirement already satisfied: packaging>=21.3 in /opt/anaconda3/envs/cse217a/lib/python3.7/site-packages (from statsmodels<0.14,>=0.13.2->pandas-profiling==3.5.0) (21.3)\n",
      "Requirement already satisfied: patsy>=0.5.2 in /opt/anaconda3/envs/cse217a/lib/python3.7/site-packages (from statsmodels<0.14,>=0.13.2->pandas-profiling==3.5.0) (0.5.3)\n",
      "Requirement already satisfied: six in /opt/anaconda3/envs/cse217a/lib/python3.7/site-packages (from patsy>=0.5.2->statsmodels<0.14,>=0.13.2->pandas-profiling==3.5.0) (1.16.0)\n",
      "Requirement already satisfied: PyWavelets in /opt/anaconda3/envs/cse217a/lib/python3.7/site-packages (from imagehash->visions[type_image_path]==0.7.5->pandas-profiling==3.5.0) (1.3.0)\n"
     ]
    }
   ],
   "source": [
    "# BEGIN SOLUTION\n",
    "!pip install pandas-profiling==3.5.0\n",
    "# END SOLUTION"
   ]
  },
  {
   "cell_type": "code",
   "execution_count": null,
   "id": "40f5d9fe",
   "metadata": {},
   "outputs": [
    {
     "data": {
      "application/vnd.jupyter.widget-view+json": {
       "model_id": "8cb66d4d3f35483a83706c4e23bbf92a",
       "version_major": 2,
       "version_minor": 0
      },
      "text/plain": [
       "Summarize dataset:   0%|          | 0/5 [00:00<?, ?it/s]"
      ]
     },
     "metadata": {},
     "output_type": "display_data"
    }
   ],
   "source": [
    "from pandas_profiling import ProfileReport\n",
    "ProfileReport(data)"
   ]
  },
  {
   "cell_type": "markdown",
   "id": "41cfdefa",
   "metadata": {},
   "source": [
    "**Problem 1.2** <br>\n",
    "The domain of this dataset is housing prices in different California districts. We want to make regressional predictions with this data set because we're dealing with mostly numerical values, and we want to predict another numerical value by fitting a model with the necessary data to train in. From the profile report, it says that there are a total 207 missing cells, all from the total_bedrooms feature. This is important because since there are missing cells, we must clean the data to get rid of the missing cells so it doesn't skew the regressional model. From the ocean_proximity, I see that the column has 5 distinct values, so maybe there's a way to numerically categorize those 5 distinct values so I can numerically analyze them. We can also see from the profile report that median income has the highest correlation with house value."
   ]
  },
  {
   "cell_type": "markdown",
   "id": "59bc3a39",
   "metadata": {},
   "source": [
    "### Problem 1.3: Data Description and Pre-processing\n",
    "\n",
    "**Write-up!** What are the major highlights and interesting points in the report generated in the previous cell (or your own EDA process). \n",
    "Describe your insights and thought process regarding those insightful aspects of the data/features/graph/statistics in terms of general relationship among features such as correlation, interaction, cardinality, distribution, missing data, outliers etc.\n"
   ]
  },
  {
   "cell_type": "code",
   "execution_count": null,
   "id": "6e41028a",
   "metadata": {},
   "outputs": [],
   "source": [
    "data"
   ]
  },
  {
   "cell_type": "markdown",
   "id": "06ed78c1",
   "metadata": {},
   "source": [
    "**Problem 1.3** <br>\n",
    "From the correlation matrix, I can see that median house value is highly correlated to median income, so I might want to explore how accurate the income is in predicting the house value. Additionally, from before, the ocean_proximit has 5 distinct values, so maybe there's some way to incorporate the ocean_size data into the regressional mdoel to see if the house value has any correlation with its nearest distance to an ocean. Based solely on outliers, from the pandas profile report, I can see that house median age and median house value have outliers, which might skew the regressional model accuracy. All of the 207 missing values are from the total_bedrooms column."
   ]
  },
  {
   "cell_type": "code",
   "execution_count": null,
   "id": "53287d41",
   "metadata": {},
   "outputs": [],
   "source": [
    "data = data.replace(\"<1H OCEAN\", 1).replace(\"INLAND\", 2).replace(\"NEAR OCEAN\", 3).replace(\"NEAR BAY\", 4).replace(\"ISLAND\", 5)"
   ]
  },
  {
   "cell_type": "markdown",
   "id": "f9e8d1db",
   "metadata": {},
   "source": [
    "To initially pre-process the data, we want to convert the categorical variable ocean_proximity to a numerical variable, which is what the code above does. The updated column is shown below:"
   ]
  },
  {
   "cell_type": "code",
   "execution_count": null,
   "id": "c84bc0a7",
   "metadata": {},
   "outputs": [],
   "source": [
    "data['ocean_proximity']"
   ]
  },
  {
   "cell_type": "markdown",
   "id": "7d6b5d01",
   "metadata": {},
   "source": [
    "### Problem 1.4: Split the Data (you will be using the same data split (train-validation-test) for all the models in the following questions )\n",
    "\n",
    "Extract input (X) and output (y) data from the dataset. \n",
    "\n",
    "Use the train and test split and k-fold cross validation (use 5 fold cross validation) from the scikit learn library to split the data into 80% training and 20% testing.\n",
    "\n",
    "**NOTE** Remember that you will be using the same cross validation and train test splits values for all the predictive modeling part (Problem 3) for the fair comparision at the end. "
   ]
  },
  {
   "cell_type": "markdown",
   "id": "bb547016",
   "metadata": {},
   "source": [
    "**Write-up!** Why 80% train and 20% test split is considered a good practice? How would you pick the train-test split size if the dataset is relatively small or large? What is the purpose of using cross validation technique and how does it ensure model robustness? What is Data snooping and how do you avaoid it?"
   ]
  },
  {
   "cell_type": "markdown",
   "id": "bb8c7e5c",
   "metadata": {},
   "source": [
    "**Problem 1.4:** <br>\n",
    "Studies show that the most accurate results are obtained if we use 20% of the data for testing and the remaining 80% of the data for training. Also, according to the 80/20 rule of model validation, 80% of the outcomes come from 20% of the causes, so using 20% of the factors will produce the best results. \n",
    "If the dataset is relatively small, we would want to increase the amount of testing data and make the train-test split 70/30. However for large datasets, we have an abundance of testing data with 20% of the data, so we would want to significantly decrease this to almost a 99/1 ratio. \n",
    "The purpose of cross validation is to estimate the performance of a specific model on untrained data by using a limited sample validation data. \n",
    "Cross validation ensures model robustness because it minimizes underfitting and overfitting so that the model's performance won't significantly change when using tseting data vs training data.\n",
    "Data snooping is the insertion of bias/misuse in data statistical analysis to artificially prove statistically significant results that may be highly inaccurate.\n",
    "To avoid data snooping, you want to use all the data and not remove important features to minimize bias from the data in order to get statistically significant results"
   ]
  },
  {
   "cell_type": "code",
   "execution_count": null,
   "id": "2ef02b47",
   "metadata": {},
   "outputs": [],
   "source": [
    "# BEGIN SOLUTION\n",
    "from sklearn.model_selection import train_test_split\n",
    "from sklearn.model_selection import KFold\n",
    "\n",
    "data_new = data.drop_duplicates()\n",
    "data_new = data.dropna()\n",
    "\n",
    "X = np.float64(data_new.copy().drop(['median_house_value', 'ocean_proximity'], axis=1))\n",
    "y = np.float64(data_new.copy().drop(['latitude', 'housing_median_age', 'total_rooms', 'total_bedrooms', 'population', 'median_income', \n",
    "           'ocean_proximity'], axis=1))\n",
    "\n",
    "X_train, X_test, y_train, y_test = train_test_split(X, y, test_size=0.2, random_state=5)\n",
    "\n",
    "kf = KFold(n_splits = 5, shuffle = True, random_state = None)\n",
    "\n",
    "for fold, (train_index, test_index) in enumerate(kf.split(X)):\n",
    "    print(\"Fold\", fold, \":\")\n",
    "    print(\"Train index: \", train_index)\n",
    "    print(\"Test index: \", test_index)\n",
    "\n",
    "# END SOLUTION"
   ]
  },
  {
   "cell_type": "markdown",
   "id": "c2661ba0",
   "metadata": {},
   "source": [
    "### Problem 1.5: Perform Linear Regression\n",
    "\n",
    "Let's create a baseline model here:\n",
    "\n",
    "Perform Linear Regression on training data. Predict the output for the test dataset using the fitted model. Print the root mean squared error (RMSE) and R^2 value from Linear Regression for test data set.\n",
    "\n"
   ]
  },
  {
   "cell_type": "markdown",
   "id": "06482f67",
   "metadata": {},
   "source": [
    "**Write-up!** Why do we use R^2 values when we have other error measures (MAE, MSE, RMSE etc.)?"
   ]
  },
  {
   "cell_type": "markdown",
   "id": "02f23dad",
   "metadata": {},
   "source": [
    "**Problem 1.5:** <br>\n",
    "We use R^2 values because they tell us how well the predictor variables can explain the variation in the response variable. Additionally, we use R^2 values because R^2 values are standardized, and therefore we're able to easily compare the accuracy of models since R^2 values aren't differentiated by the scalar effects of the data."
   ]
  },
  {
   "cell_type": "code",
   "execution_count": null,
   "id": "26ae9fd4",
   "metadata": {},
   "outputs": [],
   "source": [
    "# BEGIN SOLUTION\n",
    "from sklearn.linear_model import LinearRegression\n",
    "from sklearn.metrics import mean_squared_error\n",
    "\n",
    "r_squared_array = np.zeros(5)\n",
    "rmse_array = np.zeros(5)\n",
    "\n",
    "kf = KFold(n_splits = 5, shuffle=True, random_state = None)\n",
    "    \n",
    "for fold, (train_idx, test_idx) in enumerate(kf.split(X)):\n",
    "    X_train = X[train_idx]\n",
    "    X_test = X[test_idx]\n",
    "    y_train = y[train_idx]\n",
    "    y_test = y[test_idx]\n",
    "\n",
    "    model = LinearRegression()\n",
    "    model = model.fit(X_train,y_train)\n",
    "    r_squared = model.score(X_test,y_test)\n",
    "    r_squared_array[fold] = r_squared\n",
    "    \n",
    "    mse = mean_squared_error(y_test, model.predict(X_test))\n",
    "    rmse = np.sqrt(mse)\n",
    "    rmse_array[fold] = rmse\n",
    "    \n",
    "    \n",
    "print(\"R-squared:\", np.mean(r_squared_array))\n",
    "print(\"RMSE:\", np.mean(rmse_array))\n",
    "\n",
    "# END SOLUTION"
   ]
  },
  {
   "cell_type": "markdown",
   "id": "492236b2",
   "metadata": {},
   "source": [
    "## 2. Feature Engineering"
   ]
  },
  {
   "cell_type": "markdown",
   "id": "b1103278",
   "metadata": {},
   "source": [
    "### Problem 2.1 \n",
    "\n",
    "Identify features which needs feature engineering after looking at the baseline model's result. Perform Feature Tranformation/Manipulation/Engineering in this step and use this knowledge in predictive modeling part. \n",
    "\n",
    "Apply some feature generation technices in order to make those features more useful for the data such as checking the datatypes, handling missing values, extracting new features from existing ones, encoding some features if categorical, scaling, standardization etc. \n",
    "\n",
    "**Write up!** Explain your reasoning for selecting features and performing those specific feature engineering steps respectively.\n",
    "\n",
    "**Do this!** In the cells below, **explain** and perform the steps that you need to prepare this data for further analysis. Make sure that your implementations and write-ups (for processing and analysis) are presented well and effectively describe your workflow. You may add comments or markdown cells for your documentation as you see fit!  \n",
    "\n",
    "*Grading Note: Your work will be graded for _readability_, _style_, and _cleanlines_. So, carefully document your code and use descriptive/intuitive variable names. For write-ups use consice and clear language like in a written project report.*\n",
    "\n",
    "> **Hint**: You can use our previous labs as examples of how you might do this. \n",
    "Also, you might want to come back to this step later on, since you might encounter problems with the data once you actually analyze it. Remember, you may add as many cells (for code and text) as you need below. Here — we gave you one for free!"
   ]
  },
  {
   "cell_type": "markdown",
   "id": "016bb929",
   "metadata": {},
   "source": [
    "To initially preprocess the data, we needed to drop the na values by imputing the na values with the mean of each column. As seen below, all 207 null values are in the total_bedrooms column, so we find the mean of the total_bedrooms column and then fill the null values with this mean."
   ]
  },
  {
   "cell_type": "code",
   "execution_count": null,
   "id": "5cef5776",
   "metadata": {},
   "outputs": [],
   "source": [
    "data.isnull().sum()"
   ]
  },
  {
   "cell_type": "code",
   "execution_count": null,
   "id": "6a24bfa2",
   "metadata": {},
   "outputs": [],
   "source": [
    "mean_value= np.mean(data['total_bedrooms'])\n",
    "data['total_bedrooms'].fillna(value=mean_value, inplace=True)"
   ]
  },
  {
   "cell_type": "code",
   "execution_count": null,
   "id": "d9d9d718",
   "metadata": {},
   "outputs": [],
   "source": [
    "data.dtypes"
   ]
  },
  {
   "cell_type": "markdown",
   "id": "af7a2873",
   "metadata": {},
   "source": [
    "In the cell below, we set the X as all the columns besides median house value, and we set y, the target, as median_house_value. Then we train test split the data into an 80-20 ratio of training vs testing data. We also additionally convert the categorical column ocean_proximity to numerical values."
   ]
  },
  {
   "cell_type": "code",
   "execution_count": null,
   "id": "d66f69ee",
   "metadata": {},
   "outputs": [],
   "source": [
    "data = data.replace(\"<1H OCEAN\", 1).replace(\"INLAND\", 2).replace(\"NEAR OCEAN\", 3).replace(\"NEAR BAY\", 4).replace(\"ISLAND\", 5)\n",
    "data['ocean_proximity'] = data['ocean_proximity']*1.0\n",
    "\n",
    "X = data.loc[:, data.columns != 'median_house_value']\n",
    "y = data['median_house_value']\n",
    "\n",
    "X_train, X_test, y_train, y_test = train_test_split(X, y, test_size=0.2, random_state=5)"
   ]
  },
  {
   "cell_type": "markdown",
   "id": "31ebc7cd",
   "metadata": {},
   "source": [
    "\n",
    "### Problem 2.2: Perform Basic Feature Manupilation & Data Transformation\n",
    "\n",
    "1. Be consistent with the feature engineering process in train and test data. No data snooping.\n",
    "2. Handle Missing data: Fill the missing values with the mean of the respective column.\n",
    "3. Encode categorical data: Convert categorical column in the dataset to numerical data.\n",
    "4. Standardize data: Standardize training and test datasets.\n",
    "\n",
    "### Problem 2.3: Perform Feature Engineering (Feature Selection or/and Feature Generation) including but not limited to statistical, ML based, Newly extracted/created features etc. wherever appropriate/applicable in the respective Predictive Modeling part.\n"
   ]
  },
  {
   "cell_type": "markdown",
   "id": "b8ee8023",
   "metadata": {},
   "source": [
    "In the cell below, we scale the training and testing data using the function preprocessing.scale which standardizes/normalizes the data. It's important we do this after the train test split because this prevents data snooping."
   ]
  },
  {
   "cell_type": "code",
   "execution_count": 217,
   "id": "722e3263",
   "metadata": {},
   "outputs": [],
   "source": [
    "# BEGIN SOLUTION\n",
    "\n",
    "from sklearn import preprocessing\n",
    "\n",
    "X_train = preprocessing.scale(X_train)\n",
    "X_test = preprocessing.scale(X_test)\n",
    "y_train = preprocessing.scale(y_train)\n",
    "y_test = preprocessing.scale(y_test)\n",
    "\n",
    "# END SOLUTION"
   ]
  },
  {
   "cell_type": "markdown",
   "id": "c6f0b2d4",
   "metadata": {},
   "source": [
    "## 3. Predictive Modeling [Using scikit learn pipeline is highly encouraged]\n",
    "\n",
    "https://scikit-learn.org/stable/modules/generated/sklearn.pipeline.Pipeline.html\n",
    "\n",
    "1. Build a model of housing prices to predict median house values in California using the provided dataset.\n",
    "2. Train the model to learn from the data to predict the median housing price in any district, given all the other metrics.\n",
    "3. Predict housing prices based on median_income and plot the regression chart for it.\n",
    "\n",
    "### Problem 3.1 : Perform K-Nearest Neighbors Regression\n",
    "\n",
    "Perform K-Nearest Neighbors Algorithm for Regression on the training data.\n",
    "\n",
    "Predict output for the test dataset using the fitted model.\n",
    "\n",
    "Print root mean squared error (RMSE) and R^2 from K-Nearest Neighbors Regression on the test datset."
   ]
  },
  {
   "cell_type": "markdown",
   "id": "7af55c14",
   "metadata": {},
   "source": [
    "**Write-up!** How K-NN is different than Linear regression model and what additional steps you have to take for KNN Regression?"
   ]
  },
  {
   "cell_type": "markdown",
   "id": "110bd1c9",
   "metadata": {},
   "source": [
    "**Answer here:** <br>\n",
    "K-NN is a classification model and Linear regression is a a regressional model. K-NN assumes that similar things exist in close proximity to each other. Therefore, K-NN computes distances of different data points to a certain amount of neighbors or clusters. Then, it takes the minimum distance and classifies that data point as part of that cluster, thus making it a classification problem. On the other hand, the Linear regressional model computes the least squares to fit a best line to model, then calculates the accuracy by calculating the distance from each data point to the best fit line.\n",
    "The difference between KNN regression and K-NN classification. is that KNN regression attempts to predict the value of the target by using the average whereas KNN classification attempts to predict the class/cluster that the target belongs to by maximizing the probability likelihood function.\n",
    "Therefore, an additional step for KNN regression is computing the local average of the data points to create a prediction model for the testing data."
   ]
  },
  {
   "cell_type": "code",
   "execution_count": 218,
   "id": "8590473a",
   "metadata": {},
   "outputs": [],
   "source": [
    "from sklearn.pipeline import Pipeline\n",
    "from sklearn.impute import SimpleImputer\n",
    "from sklearn.preprocessing import OneHotEncoder\n",
    "np.random.seed(42)"
   ]
  },
  {
   "cell_type": "code",
   "execution_count": 219,
   "id": "57dca90e",
   "metadata": {},
   "outputs": [],
   "source": [
    "from sklearn.impute import KNNImputer\n",
    "from sklearn.preprocessing import RobustScaler\n",
    "\n",
    "num_cols = ['latitude', 'housing_median_age', 'total_rooms', 'total_bedrooms', 'population', 'median_income', \n",
    "            'median_house_value','ocean_proximity']\n",
    "\n",
    "num_transformer = Pipeline(steps=[\n",
    "    ('imputer', KNNImputer(n_neighbors=5)),\n",
    "    ('robust scaler', RobustScaler())\n",
    "])"
   ]
  },
  {
   "cell_type": "code",
   "execution_count": 220,
   "id": "718deafb",
   "metadata": {},
   "outputs": [],
   "source": [
    "from sklearn.neighbors import KNeighborsRegressor\n",
    "pipeline_kNN = Pipeline(steps=[('preprocessor', num_transformer),\n",
    "                      ('regressor', KNeighborsRegressor())])"
   ]
  },
  {
   "cell_type": "code",
   "execution_count": 221,
   "id": "f29473ba",
   "metadata": {},
   "outputs": [
    {
     "name": "stdout",
     "output_type": "stream",
     "text": [
      "r-squared: 0.7107447419512194\n",
      "rmse: 0.5376849113155902\n"
     ]
    }
   ],
   "source": [
    "from sklearn.model_selection import cross_val_score\n",
    "\n",
    "r2_kNN = cross_val_score(pipeline_kNN, X_train, y_train, cv=5, scoring='r2').mean()\n",
    "print(\"r-squared:\", r2_kNN)\n",
    "\n",
    "rmse_kNN = -1*cross_val_score(pipeline_kNN, X_train, y_train, cv=5, scoring ='neg_root_mean_squared_error').mean()\n",
    "print(\"rmse:\", rmse_kNN)"
   ]
  },
  {
   "cell_type": "markdown",
   "id": "cc2267c2",
   "metadata": {},
   "source": [
    "### Problem 3.2 : Perform Decision Tree Regression \n",
    "Perform Decision Tree Regression on the training data.\n",
    "\n",
    "Predict the output for test dataset using the fitted model.\n",
    "\n",
    "Print root mean squared error (RMSE) and R^2 from Decision Tree Regression on the test dataset."
   ]
  },
  {
   "cell_type": "markdown",
   "id": "557a0dd5",
   "metadata": {},
   "source": [
    "**Write-up!** What are the advantages or disadvantages of using Decision Tree over Linear regression and KNN?"
   ]
  },
  {
   "cell_type": "markdown",
   "id": "f18fff26",
   "metadata": {},
   "source": [
    "**Answer here:** <br>\n",
    "Decision tree is a type of supervised machine learning that splits data based on previous sets of questions to divide the data into regressions or clusters.\n",
    "The advantages of using decision trees are there's less data preparation, non-linearity, and greater interpretability of the data given that the splits can be any arbitrary quantity. The disadvantages of using decision trees are overfitting, there's no feature reduction, and not necessarily linearity."
   ]
  },
  {
   "cell_type": "code",
   "execution_count": 222,
   "id": "5b12feff",
   "metadata": {},
   "outputs": [],
   "source": [
    "# BEGIN SOLUTION\n",
    "from sklearn.tree import DecisionTreeRegressor\n",
    "pipeline_DT = Pipeline(steps=[('preprocessor', num_transformer),\n",
    "                      ('regressor', DecisionTreeRegressor())])\n",
    "\n",
    "# END SOLUTION"
   ]
  },
  {
   "cell_type": "code",
   "execution_count": 223,
   "id": "b12094d0",
   "metadata": {},
   "outputs": [
    {
     "name": "stdout",
     "output_type": "stream",
     "text": [
      "r-squared: 0.6410274872607599\n",
      "rmse: 0.5971669359679141\n"
     ]
    }
   ],
   "source": [
    "from sklearn.model_selection import cross_val_score\n",
    "\n",
    "r2_dt = cross_val_score(pipeline_DT, X_train, y_train, cv=5, scoring='r2').mean()\n",
    "print(\"r-squared:\", r2_dt)\n",
    "\n",
    "rmse_dt = -1*cross_val_score(pipeline_DT, X_train, y_train, cv=5, scoring ='neg_root_mean_squared_error').mean()\n",
    "print(\"rmse:\", rmse_dt)"
   ]
  },
  {
   "cell_type": "markdown",
   "id": "f08ca57b",
   "metadata": {},
   "source": [
    "### Problem 3.3 : Perform Random Forest Regression :\n",
    "Perform Random Forest Regression on the training data.\n",
    "\n",
    "Predict the output for test dataset using the fitted model.\n",
    "\n",
    "Print root mean squared error (RMSE) and R^2 from Random Forest Regression on the test dataset."
   ]
  },
  {
   "cell_type": "markdown",
   "id": "b7f27d09",
   "metadata": {},
   "source": [
    "**Write-up!** How Random Forest ensures better results from Decision Tree and Why? "
   ]
  },
  {
   "cell_type": "markdown",
   "id": "04ab7211",
   "metadata": {},
   "source": [
    "**Answer here:** <br>\n",
    "Random Forest ensures better results than Decision tree because random forest repetitively selects a subset of features and makes a unique decision tree from that subset of features. In the end, it averages the results observed from the whole set of decision trees it created, therefore giving it better results from Decision Tree because it contains some sort of feature reduction."
   ]
  },
  {
   "cell_type": "code",
   "execution_count": 224,
   "id": "00004427",
   "metadata": {},
   "outputs": [],
   "source": [
    "# BEGIN SOLUTION\n",
    "from sklearn.ensemble import RandomForestRegressor\n",
    "from sklearn.model_selection import cross_val_score\n",
    "\n",
    "pipeline_RF = Pipeline(steps=[('preprocessor', num_transformer),\n",
    "                      ('regressor', RandomForestRegressor(random_state=5))])\n",
    "\n",
    "# END SOLUTION"
   ]
  },
  {
   "cell_type": "code",
   "execution_count": 225,
   "id": "aa3730a5",
   "metadata": {},
   "outputs": [
    {
     "name": "stdout",
     "output_type": "stream",
     "text": [
      "r-squared: 0.6411463284214433\n",
      "rmse: 0.600001354686835\n"
     ]
    }
   ],
   "source": [
    "from sklearn.model_selection import cross_val_score\n",
    "\n",
    "r2_rf = cross_val_score(pipeline_DT, X_train, y_train, cv=5, scoring='r2').mean()\n",
    "print(\"r-squared:\", r2_rf)\n",
    "\n",
    "rmse_rf = -1*cross_val_score(pipeline_DT, X_train, y_train, cv=5, scoring ='neg_root_mean_squared_error').mean()\n",
    "print(\"rmse:\", rmse_rf)"
   ]
  },
  {
   "cell_type": "markdown",
   "id": "115e342a",
   "metadata": {},
   "source": [
    "### Problem 3.4: Perform Linear Regression with one independent variable\n",
    "\n",
    "Extract just the median_income column from the independent variables (from X_train and X_test).\n",
    "\n",
    "Perform Linear Regression to predict housing values based on median_income.\n",
    "\n",
    "Predict output for test dataset using the fitted model.\n",
    "\n",
    "Plot the fitted model for training data as well as for test data to check if the fitted model satisfies the test data.\n",
    "\n",
    "Compare the results of the baseline model with this model's result."
   ]
  },
  {
   "cell_type": "markdown",
   "id": "3fbcde91",
   "metadata": {},
   "source": [
    "**Write-up!** Why there is a difference in performance (if any!) of problem 1.5 and problem 3.4 model? What kind of feature selection is being applied here and what is the intuition behind it. Describe in your words! "
   ]
  },
  {
   "cell_type": "markdown",
   "id": "d406c8cf",
   "metadata": {},
   "source": [
    "**Answer here:** <br>\n",
    "There's a difference in performance because we used a pipeline for this one instead of hand computing it. Therefore, the pipeline does different computations based on statistical and probabilistic algorithms. The kind of feature selection being applied here is used to select the feature's importance from a model so it can be used to train another model. Therefore, since we weigh the feature's performance/importance, the r2 and rmse values are different."
   ]
  },
  {
   "cell_type": "code",
   "execution_count": 226,
   "id": "893cbc68",
   "metadata": {},
   "outputs": [],
   "source": [
    "# BEGIN SOLUTION\n",
    "from sklearn.linear_model import LinearRegression\n",
    "\n",
    "from sklearn.model_selection import cross_val_score\n",
    "\n",
    "pipeline_LR = Pipeline(steps=[('preprocessor', num_transformer),\n",
    "                      ('regressor', LinearRegression())])\n",
    "\n",
    "# END SOLUTION"
   ]
  },
  {
   "cell_type": "code",
   "execution_count": 227,
   "id": "b8562cfa",
   "metadata": {},
   "outputs": [
    {
     "name": "stdout",
     "output_type": "stream",
     "text": [
      "r-squared: 0.6316258235284089\n",
      "rmse: 0.606743301657892\n"
     ]
    }
   ],
   "source": [
    "r2_lr = cross_val_score(pipeline_LR, X_train, y_train, cv=5, scoring='r2').mean()\n",
    "print(\"r-squared:\", r2_lr)\n",
    "\n",
    "rmse_lr = -1*cross_val_score(pipeline_LR, X_train, y_train, cv=5, scoring ='neg_root_mean_squared_error').mean()\n",
    "print(\"rmse:\", rmse_lr)"
   ]
  },
  {
   "cell_type": "markdown",
   "id": "b3a8f1bb",
   "metadata": {},
   "source": [
    "## 4. Model Comparision"
   ]
  },
  {
   "cell_type": "markdown",
   "id": "e9fec082",
   "metadata": {},
   "source": [
    "### Problem 4.1:\n",
    "\n",
    "Compare all the models results and report the lowest accuracy score.\n",
    "\n",
    "Visualize all the final models error using R^2 in a bar graph.\n"
   ]
  },
  {
   "cell_type": "code",
   "execution_count": 228,
   "id": "6c4a9ba8",
   "metadata": {},
   "outputs": [
    {
     "data": {
      "text/plain": [
       "Text(0.5, 1.0, 'Accuracy Scores for Final Models')"
      ]
     },
     "execution_count": 228,
     "metadata": {},
     "output_type": "execute_result"
    },
    {
     "data": {
      "image/png": "[encoded data removed]",
      "text/plain": [
       "<Figure size 432x288 with 1 Axes>"
      ]
     },
     "metadata": {
      "needs_background": "light"
     },
     "output_type": "display_data"
    }
   ],
   "source": [
    "# BEGIN SOLUTION\n",
    "    \n",
    "labels = ['KNN', 'Decision Tree', 'Random Forest', 'Linear Regression']\n",
    "scores = [r2_kNN, r2_dt, r2_rf, r2_lr]\n",
    "\n",
    "# your code here \n",
    "plt.bar(labels,scores)\n",
    "plt.xticks(rotation = 45)\n",
    "plt.xlabel(\"Model\")\n",
    "plt.ylabel(\"R-squared\")\n",
    "plt.title(\"Accuracy Scores for Final Models\")\n",
    "\n",
    "# END SOLUTION"
   ]
  },
  {
   "cell_type": "markdown",
   "id": "562f1363",
   "metadata": {},
   "source": [
    "As seen above, the linear regression model has the lowest accuracy score compared to the other models. Its r-squared value is 0.632."
   ]
  },
  {
   "cell_type": "code",
   "execution_count": 229,
   "id": "2a368d6c",
   "metadata": {},
   "outputs": [
    {
     "data": {
      "text/plain": [
       "Text(0.5, 1.0, 'RMSE Scores for Final Models')"
      ]
     },
     "execution_count": 229,
     "metadata": {},
     "output_type": "execute_result"
    },
    {
     "data": {
      "image/png": "[encoded data removed]",
      "text/plain": [
       "<Figure size 432x288 with 1 Axes>"
      ]
     },
     "metadata": {
      "needs_background": "light"
     },
     "output_type": "display_data"
    }
   ],
   "source": [
    "labels = ['KNN', 'Decision Tree', 'Random Forest', 'Linear Regression']\n",
    "scores = [rmse_kNN, rmse_dt, rmse_rf, rmse_lr]\n",
    "\n",
    "# your code here \n",
    "plt.bar(labels,scores)\n",
    "plt.xticks(rotation = 45)\n",
    "plt.xlabel(\"Model\")\n",
    "plt.ylabel(\"RMSE\")\n",
    "plt.title(\"RMSE Scores for Final Models\")"
   ]
  },
  {
   "cell_type": "markdown",
   "id": "d80d7d30",
   "metadata": {},
   "source": [
    "As seen above, the k nearest neighbors has the lowest rmse score compared to the other models. Its r-squared value is 0.632. It has a RMSE value of 0.537."
   ]
  },
  {
   "cell_type": "markdown",
   "id": "87084a5e",
   "metadata": {},
   "source": [
    "### Problem 4.2:\n",
    "\n",
    "Now review the feature enginnering lab (lab 9) and apply one of the feature selection and/or one feature generation method and use it for prediction on the test data. Evaluate and compare the all the models (LR, DT, RF, K-NN) on original features (no feature engineering) with the ones on the engineered features.\n",
    "Then, select the best model after the whole comparision.\n",
    "\n",
    "Visualize the following models with and without feature engineering comparision.\n",
    "1.  Linear Regression Model (LR-all (Problem 1.5) vs LR-1feature (Problem 3.4).\n",
    "2.  KNN (No feature engineering KNN vs Feature engineered KNN)\n",
    "3.  DT (No feature engineering DT vs Feature engineered DT)\n",
    "4.  RF (No feature engineering RF vs Feature engineered RF)\n",
    "\n",
    "Visualize all models with feature enginnering in one graph and compare their R^2.\n",
    "\n",
    "**Write up** Explain which feature selection and/or feature generation method have you selected and why for this dataset."
   ]
  },
  {
   "cell_type": "markdown",
   "id": "71dc7125",
   "metadata": {},
   "source": [
    "**Answer here:** <br>\n",
    "For this data set I chose to do random forest because it has the highest r-squared value with feature engineering, so it would be the most interesting to see how the feature engineered random forest compares to the no feature engineering random forest in terms of accuracy in the model."
   ]
  },
  {
   "cell_type": "code",
   "execution_count": 235,
   "id": "5c2b9582",
   "metadata": {},
   "outputs": [],
   "source": [
    "# BEGIN SOLUTION\n",
    "data_FE = data.drop(['longitude', 'latitude'], axis =1)\n",
    "# END SOLUTION"
   ]
  },
  {
   "cell_type": "code",
   "execution_count": 239,
   "id": "443b47da",
   "metadata": {},
   "outputs": [],
   "source": [
    "X_train_FE, X_test_FE, y_train_FE, y_test_FE = train_test_split(X, y, test_size=0.2, random_state=5)\n",
    "X_train_FE = preprocessing.scale(X_train_FE)\n",
    "X_test_FE = preprocessing.scale(X_test_FE)\n",
    "y_train_FE = preprocessing.scale(y_train_FE)\n",
    "y_test_FE = preprocessing.scale(y_test_FE)\n",
    "\n",
    "num_cols = ['housing_median_age', 'total_rooms', 'total_bedrooms', 'population', 'median_income', \n",
    "            'median_house_value','ocean_proximity']\n",
    "\n",
    "num_transformer = Pipeline(steps=[\n",
    "    ('imputer', KNNImputer(n_neighbors=5)),\n",
    "    ('robust scaler', RobustScaler())\n",
    "])"
   ]
  },
  {
   "cell_type": "code",
   "execution_count": 241,
   "id": "ae4206a8",
   "metadata": {},
   "outputs": [
    {
     "name": "stdout",
     "output_type": "stream",
     "text": [
      "r-squared: 0.7107447419512194\n",
      "rmse: 0.5376849113155902\n"
     ]
    }
   ],
   "source": [
    "from sklearn.neighbors import KNeighborsRegressor\n",
    "pipeline_kNN_FE = Pipeline(steps=[('preprocessor', num_transformer),\n",
    "                      ('regressor', KNeighborsRegressor())])\n",
    "r2_kNN_FE = cross_val_score(pipeline_kNN, X_train_FE, y_train_FE, cv=5, scoring='r2').mean()\n",
    "print(\"r-squared:\", r2_kNN_FE)\n",
    "\n",
    "rmse_kNN_FE = -1*cross_val_score(pipeline_kNN_FE, X_train_FE, y_train_FE, cv=5, scoring ='neg_root_mean_squared_error').mean()\n",
    "print(\"rmse:\", rmse_kNN_FE)"
   ]
  },
  {
   "cell_type": "code",
   "execution_count": 242,
   "id": "8c1e113e",
   "metadata": {},
   "outputs": [
    {
     "name": "stdout",
     "output_type": "stream",
     "text": [
      "r-squared: 0.6400660411566245\n",
      "rmse: 0.6021365086895927\n"
     ]
    }
   ],
   "source": [
    "from sklearn.tree import DecisionTreeRegressor\n",
    "pipeline_DT_FE = Pipeline(steps=[('preprocessor', num_transformer),\n",
    "                      ('regressor', DecisionTreeRegressor())])\n",
    "from sklearn.model_selection import cross_val_score\n",
    "\n",
    "r2_dt_FE = cross_val_score(pipeline_DT_FE, X_train_FE, y_train_FE, cv=5, scoring='r2').mean()\n",
    "print(\"r-squared:\", r2_dt_FE)\n",
    "\n",
    "rmse_dt_FE = -1*cross_val_score(pipeline_DT_FE, X_train_FE, y_train_FE, cv=5, scoring ='neg_root_mean_squared_error').mean()\n",
    "print(\"rmse:\", rmse_dt_FE)"
   ]
  },
  {
   "cell_type": "code",
   "execution_count": 243,
   "id": "f83eba63",
   "metadata": {},
   "outputs": [
    {
     "name": "stdout",
     "output_type": "stream",
     "text": [
      "r-squared: 0.6422407201357461\n",
      "rmse: 0.603917747754286\n"
     ]
    }
   ],
   "source": [
    "from sklearn.ensemble import RandomForestRegressor\n",
    "from sklearn.model_selection import cross_val_score\n",
    "\n",
    "pipeline_RF_FE = Pipeline(steps=[('preprocessor', num_transformer),\n",
    "                      ('regressor', RandomForestRegressor(random_state=5))])\n",
    "from sklearn.model_selection import cross_val_score\n",
    "\n",
    "r2_rf_FE = cross_val_score(pipeline_DT_FE, X_train_FE, y_train_FE, cv=5, scoring='r2').mean()\n",
    "print(\"r-squared:\", r2_rf_FE)\n",
    "\n",
    "rmse_rf_FE = -1*cross_val_score(pipeline_DT_FE, X_train_FE, y_train_FE, cv=5, scoring ='neg_root_mean_squared_error').mean()\n",
    "print(\"rmse:\", rmse_rf_FE)\n"
   ]
  },
  {
   "cell_type": "code",
   "execution_count": 245,
   "id": "97f90929",
   "metadata": {},
   "outputs": [
    {
     "name": "stdout",
     "output_type": "stream",
     "text": [
      "r-squared: 0.6316258235284089\n",
      "rmse: 0.606743301657892\n"
     ]
    }
   ],
   "source": [
    "from sklearn.linear_model import LinearRegression\n",
    "\n",
    "from sklearn.model_selection import cross_val_score\n",
    "\n",
    "pipeline_LR_FE = Pipeline(steps=[('preprocessor', num_transformer),\n",
    "                      ('regressor', LinearRegression())])\n",
    "r2_lr_FE = cross_val_score(pipeline_LR, X_train_FE, y_train_FE, cv=5, scoring='r2').mean()\n",
    "print(\"r-squared:\", r2_lr_FE)\n",
    "\n",
    "rmse_lr_FE = -1*cross_val_score(pipeline_LR_FE, X_train_FE, y_train_FE, cv=5, scoring ='neg_root_mean_squared_error').mean()\n",
    "print(\"rmse:\", rmse_lr_FE)"
   ]
  },
  {
   "cell_type": "code",
   "execution_count": 257,
   "id": "20d3dca2",
   "metadata": {},
   "outputs": [
    {
     "name": "stdout",
     "output_type": "stream",
     "text": [
      "               Model     No FE        FE\n",
      "0                KNN  0.710745  0.710745\n",
      "1      Decision Tree  0.641027  0.640066\n",
      "2      Random Forest  0.641146  0.642241\n",
      "3  Linear Regression  0.631626  0.631626\n"
     ]
    },
    {
     "data": {
      "text/plain": [
       "<AxesSubplot:title={'center':'Feature Engineering vs No Feature Engineering'}, xlabel='Model'>"
      ]
     },
     "execution_count": 257,
     "metadata": {},
     "output_type": "execute_result"
    },
    {
     "data": {
      "image/png": "[encoded data removed]",
      "text/plain": [
       "<Figure size 432x288 with 1 Axes>"
      ]
     },
     "metadata": {
      "needs_background": "light"
     },
     "output_type": "display_data"
    }
   ],
   "source": [
    "labels = ['KNN', 'Decision Tree', 'Random Forest', 'Linear Regression']\n",
    "scores = [r2_kNN, r2_dt, r2_rf, r2_lr]\n",
    "scores_FE = [r2_kNN_FE, r2_dt_FE, r2_rf_FE, r2_lr_FE]\n",
    "\n",
    "df = pd.DataFrame([['KNN', r2_kNN, r2_kNN_FE], ['Decision Tree', r2_dt, r2_dt_FE], ['Random Forest', r2_rf, r2_rf_FE],\n",
    "                   ['Linear Regression', r2_lr, r2_lr_FE]],\n",
    "                  columns=['Model', 'No FE', 'FE'])\n",
    "print(df)\n",
    "  \n",
    "# plot grouped bar chart\n",
    "df.plot(x='Model',\n",
    "        kind='bar',\n",
    "        stacked=False,\n",
    "        title='Feature Engineering vs No Feature Engineering')"
   ]
  },
  {
   "cell_type": "markdown",
   "id": "8fc38fb3",
   "metadata": {},
   "source": [
    "\n",
    "**Write up** Summarize your results and provide some crucial insights about the entire with and without feature engineering process such as which model performed the best and why, based on what metrics and indicators, etc. Which feature engireeing step provided more value to the predictive modeling process?\n"
   ]
  },
  {
   "cell_type": "markdown",
   "id": "da13b9db",
   "metadata": {},
   "source": [
    "**Answer here:** <br>\n",
    "As seen above, our feature engineering is marginally better than the no feature engineering data set because we extracted non important features like longitude and latitude since they're not relevant to house prices. The feature engineering for k neighbors has the highest r2 value, so we should use this model for the data set in predicting house prices. "
   ]
  },
  {
   "cell_type": "code",
   "execution_count": 258,
   "id": "270bd35f",
   "metadata": {
    "deletable": false,
    "editable": false
   },
   "outputs": [
    {
     "data": {
      "text/html": [
       "<p><strong><pre style='display: inline;'>hw9</pre></strong> passed!</p>"
      ],
      "text/plain": [
       "hw9 results: All test cases passed!"
      ]
     },
     "execution_count": 258,
     "metadata": {},
     "output_type": "execute_result"
    }
   ],
   "source": [
    "grader.check(\"hw9\")"
   ]
  },
  {
   "cell_type": "markdown",
   "id": "75b06ae2",
   "metadata": {},
   "source": [
    "<!-- END QUESTION -->\n",
    "\n",
    "Note that we have a dummy test here to generate a pdf on Gradescope, but the entire assignment is manually graded. So make sure your notebook communicates your thoughts and process!"
   ]
  },
  {
   "cell_type": "markdown",
   "id": "675b7b1d",
   "metadata": {
    "deletable": false,
    "editable": false
   },
   "source": [
    "---\n",
    "\n",
    "To double-check your work, the cell below will rerun all of the autograder tests."
   ]
  },
  {
   "cell_type": "code",
   "execution_count": null,
   "id": "eb18547f",
   "metadata": {
    "deletable": false,
    "editable": false
   },
   "outputs": [],
   "source": [
    "grader.check_all()"
   ]
  },
  {
   "cell_type": "markdown",
   "id": "f259a52b",
   "metadata": {
    "deletable": false,
    "editable": false
   },
   "source": [
    "## Submission\n",
    "\n",
    "Make sure you have run all cells in your notebook in order before running the cell below, so that all images/graphs appear in the output. The cell below will generate a zip file for you to submit. **Please save before exporting!**"
   ]
  },
  {
   "cell_type": "code",
   "execution_count": null,
   "id": "2c7b96fb",
   "metadata": {
    "deletable": false,
    "editable": false
   },
   "outputs": [],
   "source": [
    "# Save your notebook first, then run this cell to export your submission.\n",
    "grader.export(pdf=False)"
   ]
  },
  {
   "cell_type": "markdown",
   "id": "e5fe9df1",
   "metadata": {},
   "source": [
    " "
   ]
  }
 ],
 "metadata": {
  "kernelspec": {
   "display_name": "Python 3",
   "language": "python",
   "name": "python3"
  },
  "language_info": {
   "codemirror_mode": {
    "name": "ipython",
    "version": 3
   },
   "file_extension": ".py",
   "mimetype": "text/x-python",
   "name": "python",
   "nbconvert_exporter": "python",
   "pygments_lexer": "ipython3",
   "version": "3.7.13"
  },
  "otter": {
   "tests": {
    "hw9": {
     "name": "hw9",
     "points": 0,
     "suites": [
      {
       "cases": [
        {
         "code": ">>> True == True\nTrue",
         "hidden": false,
         "locked": false
        }
       ],
       "scored": true,
       "setup": "",
       "teardown": "",
       "type": "doctest"
      }
     ]
    }
   }
  }
 },
 "nbformat": 4,
 "nbformat_minor": 5
}
